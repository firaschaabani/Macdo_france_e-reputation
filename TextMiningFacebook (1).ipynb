{
 "cells": [
  {
   "cell_type": "markdown",
   "metadata": {},
   "source": [
    "## 1/ Importation des bibliothèques"
   ]
  },
  {
   "cell_type": "code",
   "execution_count": 1,
   "metadata": {},
   "outputs": [],
   "source": [
    "import sys\n",
    "import tqdm\n",
    "import pandas as pd\n",
    "import numpy as np\n",
    "import matplotlib.pyplot as plt\n",
    "import seaborn as sns\n",
    "%matplotlib inline\n",
    "from pprint import pprint\n",
    "from facebook_scraper import get_posts, fetch_share_and_reactions \n",
    "import gensim\n",
    "from gensim.utils import simple_preprocess\n",
    "from gensim.parsing.preprocessing import STOPWORDS\n",
    "from gensim.corpora import Dictionary\n",
    "from gensim.models import TfidfModel, LdaMulticore\n",
    "from gensim.models import CoherenceModel\n",
    "import nltk\n",
    "from nltk.stem import WordNetLemmatizer, SnowballStemmer\n",
    "from nltk.corpus import stopwords\n",
    "from nltk.tokenize import word_tokenize, sent_tokenize"
   ]
  },
  {
   "cell_type": "markdown",
   "metadata": {},
   "source": [
    "## 2/ Collecte des données"
   ]
  },
  {
   "cell_type": "code",
   "execution_count": 2,
   "metadata": {},
   "outputs": [],
   "source": [
    "fb_data = []\n",
    "for post in get_posts('mcdonaldsfrance', pages=100):\n",
    "    fb_data.append(fetch_share_and_reactions(post))"
   ]
  },
  {
   "cell_type": "code",
   "execution_count": 3,
   "metadata": {},
   "outputs": [
    {
     "data": {
      "text/plain": [
       "400"
      ]
     },
     "execution_count": 3,
     "metadata": {},
     "output_type": "execute_result"
    }
   ],
   "source": [
    "len(fb_data)"
   ]
  },
  {
   "cell_type": "code",
   "execution_count": 18,
   "metadata": {},
   "outputs": [
    {
     "name": "stdout",
     "output_type": "stream",
     "text": [
      "dict_keys(['post_id', 'text', 'post_text', 'shared_text', 'time', 'image', 'likes', 'comments', 'shares', 'post_url', 'link', 'reactions', 'w3_fb_url', 'fetched_time'])\n"
     ]
    }
   ],
   "source": [
    "print(fb_data[5].keys())"
   ]
  },
  {
   "cell_type": "code",
   "execution_count": 29,
   "metadata": {},
   "outputs": [],
   "source": [
    "def extract_comment_attributes(post_object):\n",
    "    post_list =[]\n",
    "    for post in post_object:\n",
    "        post_id = post['post_id']\n",
    "        text = post['text']\n",
    "        shared_text = post['shared_text']\n",
    "        time = post['time']\n",
    "        reactions = post['likes']\n",
    "        comments = post['comments']\n",
    "        shares = post['shares']\n",
    "        like_reaction = 0 if 'reactions' not in post.keys() or 'like' not in post['reactions'].keys() else post['reactions']['like']\n",
    "        haha_reaction = 0 if 'reactions' not in post.keys() or 'haha' not in post['reactions'].keys() else post['reactions']['haha']\n",
    "        love_reaction = 0 if 'reactions' not in post.keys() or 'love' not in post['reactions'].keys() else post['reactions']['love']\n",
    "        anger_reaction = 0 if 'reactions' not in post.keys() or 'anger' not in post['reactions'].keys() else post['reactions']['anger']\n",
    "        wow_reaction = 0 if 'reactions' not in post.keys() or 'wow' not in post['reactions'].keys() else post['reactions']['wow']\n",
    "        sorry_reaction = 0 if 'reactions' not in post.keys() or 'sorry' not in post['reactions'].keys() else post['reactions']['sorry']\n",
    "        # append attributes to list\n",
    "        post_list.append({'post_id':post_id, \n",
    "                          'text':text, \n",
    "                          'shared_text':shared_text,\n",
    "                          'time':time, \n",
    "                          'reactions':reactions, \n",
    "                          'comments':comments, \n",
    "                          'shares':shares,\n",
    "                          'like_reaction':like_reaction,\n",
    "                          'haha_reaction': haha_reaction,\n",
    "                          'love_reaction': love_reaction,\n",
    "                          'anger_reaction': anger_reaction,\n",
    "                          'wow_reaction': wow_reaction,\n",
    "                          'sorry_reaction': sorry_reaction})\n",
    "    \n",
    "    df = pd.DataFrame(post_list, columns=['post_id',\n",
    "                                           'text',\n",
    "                                           'shared_text',\n",
    "                                           'time',\n",
    "                                           'reactions',\n",
    "                                           'comments',\n",
    "                                           'shares',\n",
    "                                           'like_reaction',\n",
    "                                           'haha_reaction',\n",
    "                                           'love_reaction',\n",
    "                                           'anger_reaction',\n",
    "                                           'wow_reaction',\n",
    "                                           'sorry_reaction'])\n",
    "    return df\n",
    "\n",
    "\n",
    "df = extract_comment_attributes(fb_data)"
   ]
  },
  {
   "cell_type": "code",
   "execution_count": 30,
   "metadata": {},
   "outputs": [
    {
     "data": {
      "text/html": [
       "<div>\n",
       "<style scoped>\n",
       "    .dataframe tbody tr th:only-of-type {\n",
       "        vertical-align: middle;\n",
       "    }\n",
       "\n",
       "    .dataframe tbody tr th {\n",
       "        vertical-align: top;\n",
       "    }\n",
       "\n",
       "    .dataframe thead th {\n",
       "        text-align: right;\n",
       "    }\n",
       "</style>\n",
       "<table border=\"1\" class=\"dataframe\">\n",
       "  <thead>\n",
       "    <tr style=\"text-align: right;\">\n",
       "      <th></th>\n",
       "      <th>post_id</th>\n",
       "      <th>text</th>\n",
       "      <th>shared_text</th>\n",
       "      <th>time</th>\n",
       "      <th>reactions</th>\n",
       "      <th>comments</th>\n",
       "      <th>shares</th>\n",
       "      <th>like_reaction</th>\n",
       "      <th>haha_reaction</th>\n",
       "      <th>love_reaction</th>\n",
       "      <th>anger_reaction</th>\n",
       "      <th>wow_reaction</th>\n",
       "      <th>sorry_reaction</th>\n",
       "    </tr>\n",
       "  </thead>\n",
       "  <tbody>\n",
       "    <tr>\n",
       "      <th>0</th>\n",
       "      <td>2849712391750985</td>\n",
       "      <td>Pour divertir les plus petits pendant ces long...</td>\n",
       "      <td></td>\n",
       "      <td>2020-04-16 17:02:56</td>\n",
       "      <td>212</td>\n",
       "      <td>110</td>\n",
       "      <td>93</td>\n",
       "      <td>187</td>\n",
       "      <td>0</td>\n",
       "      <td>25</td>\n",
       "      <td>0</td>\n",
       "      <td>0</td>\n",
       "      <td>0</td>\n",
       "    </tr>\n",
       "    <tr>\n",
       "      <th>1</th>\n",
       "      <td>2827050184017206</td>\n",
       "      <td>Pour divertir vos enfants et partager un bon m...</td>\n",
       "      <td></td>\n",
       "      <td>2020-04-06 17:23:46</td>\n",
       "      <td>1484</td>\n",
       "      <td>668</td>\n",
       "      <td>914</td>\n",
       "      <td>1284</td>\n",
       "      <td>20</td>\n",
       "      <td>119</td>\n",
       "      <td>54</td>\n",
       "      <td>5</td>\n",
       "      <td>2</td>\n",
       "    </tr>\n",
       "    <tr>\n",
       "      <th>2</th>\n",
       "      <td>2750328441689381</td>\n",
       "      <td>C’est LE trio dont tout le monde va parler !\\n...</td>\n",
       "      <td></td>\n",
       "      <td>2020-03-10 11:58:22</td>\n",
       "      <td>4556</td>\n",
       "      <td>6795</td>\n",
       "      <td>442</td>\n",
       "      <td>3569</td>\n",
       "      <td>41</td>\n",
       "      <td>748</td>\n",
       "      <td>27</td>\n",
       "      <td>157</td>\n",
       "      <td>14</td>\n",
       "    </tr>\n",
       "    <tr>\n",
       "      <th>3</th>\n",
       "      <td>2755255451196680</td>\n",
       "      <td>Question de la plus haute importance :\\n➡️ tu ...</td>\n",
       "      <td></td>\n",
       "      <td>2020-03-08 17:57:07</td>\n",
       "      <td>452</td>\n",
       "      <td>1003</td>\n",
       "      <td>15</td>\n",
       "      <td>428</td>\n",
       "      <td>12</td>\n",
       "      <td>12</td>\n",
       "      <td>0</td>\n",
       "      <td>0</td>\n",
       "      <td>0</td>\n",
       "    </tr>\n",
       "    <tr>\n",
       "      <th>4</th>\n",
       "      <td>2705846959470863</td>\n",
       "      <td>🥚🥚🥚🥚🥚🥚🥚🥚🥚🥚🥚🥚🥚🥚🥚🥚🥚🥚🥚🥚🥚🥚🥚🥚🥚🥚🥚🥚🥚🥚🥚🥚🥚🥚🥚🥚🥚🥚🥚🥚🥚🥚🥚🥚🥚🥚...</td>\n",
       "      <td></td>\n",
       "      <td>2020-03-06 11:57:06</td>\n",
       "      <td>1615</td>\n",
       "      <td>1398</td>\n",
       "      <td>70</td>\n",
       "      <td>1393</td>\n",
       "      <td>141</td>\n",
       "      <td>50</td>\n",
       "      <td>14</td>\n",
       "      <td>15</td>\n",
       "      <td>2</td>\n",
       "    </tr>\n",
       "  </tbody>\n",
       "</table>\n",
       "</div>"
      ],
      "text/plain": [
       "            post_id                                               text  \\\n",
       "0  2849712391750985  Pour divertir les plus petits pendant ces long...   \n",
       "1  2827050184017206  Pour divertir vos enfants et partager un bon m...   \n",
       "2  2750328441689381  C’est LE trio dont tout le monde va parler !\\n...   \n",
       "3  2755255451196680  Question de la plus haute importance :\\n➡️ tu ...   \n",
       "4  2705846959470863  🥚🥚🥚🥚🥚🥚🥚🥚🥚🥚🥚🥚🥚🥚🥚🥚🥚🥚🥚🥚🥚🥚🥚🥚🥚🥚🥚🥚🥚🥚🥚🥚🥚🥚🥚🥚🥚🥚🥚🥚🥚🥚🥚🥚🥚🥚...   \n",
       "\n",
       "  shared_text                time  reactions  comments  shares  like_reaction  \\\n",
       "0             2020-04-16 17:02:56        212       110      93            187   \n",
       "1             2020-04-06 17:23:46       1484       668     914           1284   \n",
       "2             2020-03-10 11:58:22       4556      6795     442           3569   \n",
       "3             2020-03-08 17:57:07        452      1003      15            428   \n",
       "4             2020-03-06 11:57:06       1615      1398      70           1393   \n",
       "\n",
       "   haha_reaction  love_reaction  anger_reaction  wow_reaction  sorry_reaction  \n",
       "0              0             25               0             0               0  \n",
       "1             20            119              54             5               2  \n",
       "2             41            748              27           157              14  \n",
       "3             12             12               0             0               0  \n",
       "4            141             50              14            15               2  "
      ]
     },
     "execution_count": 30,
     "metadata": {},
     "output_type": "execute_result"
    }
   ],
   "source": [
    "df.head()"
   ]
  },
  {
   "cell_type": "code",
   "execution_count": 31,
   "metadata": {},
   "outputs": [],
   "source": [
    "df.to_csv('fbposts.csv', index = False, header=True)"
   ]
  },
  {
   "cell_type": "markdown",
   "metadata": {},
   "source": [
    "## 3/ Prétraitement des données"
   ]
  },
  {
   "cell_type": "markdown",
   "metadata": {},
   "source": [
    "### 3-1/ Tokenization"
   ]
  },
  {
   "cell_type": "code",
   "execution_count": 32,
   "metadata": {},
   "outputs": [],
   "source": [
    "df = pd.read_csv(\"fbposts.csv\")\n",
    "df[\"tokens\"] = df[\"text\"].astype('str')"
   ]
  },
  {
   "cell_type": "code",
   "execution_count": 33,
   "metadata": {},
   "outputs": [],
   "source": [
    "df[\"tokens\"] = df[\"tokens\"].apply(word_tokenize)"
   ]
  },
  {
   "cell_type": "code",
   "execution_count": 34,
   "metadata": {},
   "outputs": [
    {
     "data": {
      "text/plain": [
       "0      [Pour, divertir, les, plus, petits, pendant, c...\n",
       "1      [Pour, divertir, vos, enfants, et, partager, u...\n",
       "2      [C, ’, est, LE, trio, dont, tout, le, monde, v...\n",
       "3      [Question, de, la, plus, haute, importance, :,...\n",
       "4      [🥚🥚🥚🥚🥚🥚🥚🥚🥚🥚🥚🥚🥚🥚🥚🥚🥚🥚🥚🥚🥚🥚🥚🥚🥚🥚🥚🥚🥚🥚🥚🥚🥚🥚🥚🥚🥚🥚🥚🥚🥚🥚🥚🥚🥚...\n",
       "                             ...                        \n",
       "395    [L'affrontement, suprême, :, Royal, Cheese, ou...\n",
       "396    [Alors, alors, qu'avez-vous, reçu, de, beau, à...\n",
       "397    [On, vous, souhaite, à, tous, de, très, belles...\n",
       "398    [❄️, C'est, l'hiver, ,, vite, vite, on, se, ré...\n",
       "399    [Pour, motiver, ta, meilleure, pote, à, ramene...\n",
       "Name: tokens, Length: 400, dtype: object"
      ]
     },
     "execution_count": 34,
     "metadata": {},
     "output_type": "execute_result"
    }
   ],
   "source": [
    "df.tokens"
   ]
  },
  {
   "cell_type": "code",
   "execution_count": 35,
   "metadata": {},
   "outputs": [
    {
     "data": {
      "text/plain": [
       "7612"
      ]
     },
     "execution_count": 35,
     "metadata": {},
     "output_type": "execute_result"
    }
   ],
   "source": [
    "all_training_words = [word for tokens in df[\"tokens\"] for word in tokens]\n",
    "len(all_training_words)"
   ]
  },
  {
   "cell_type": "markdown",
   "metadata": {},
   "source": [
    "### 3-2/ Nettoyage des données"
   ]
  },
  {
   "cell_type": "code",
   "execution_count": 36,
   "metadata": {},
   "outputs": [],
   "source": [
    "df[\"tokens\"] = df[\"tokens\"].apply(lambda tokens : [word.lower() for word in tokens if word.isalpha()])"
   ]
  },
  {
   "cell_type": "code",
   "execution_count": 37,
   "metadata": {},
   "outputs": [
    {
     "data": {
      "text/plain": [
       "0      [pour, divertir, les, plus, petits, pendant, c...\n",
       "1      [pour, divertir, vos, enfants, et, partager, u...\n",
       "2      [c, est, le, trio, dont, tout, le, monde, va, ...\n",
       "3      [question, de, la, plus, haute, importance, tu...\n",
       "4                                                     []\n",
       "                             ...                        \n",
       "395               [suprême, royal, cheese, ou, big, mac]\n",
       "396    [alors, alors, reçu, de, beau, à, noël, onveut...\n",
       "397    [on, vous, souhaite, à, tous, de, très, belles...\n",
       "398          [vite, vite, on, se, réchauffe, les, mains]\n",
       "399    [pour, motiver, ta, meilleure, pote, à, ramene...\n",
       "Name: tokens, Length: 400, dtype: object"
      ]
     },
     "execution_count": 37,
     "metadata": {},
     "output_type": "execute_result"
    }
   ],
   "source": [
    "df.tokens"
   ]
  },
  {
   "cell_type": "markdown",
   "metadata": {},
   "source": [
    "### 3-3/ Stopwords"
   ]
  },
  {
   "cell_type": "code",
   "execution_count": 38,
   "metadata": {},
   "outputs": [],
   "source": [
    "stop_words = set(stopwords.words(['french','english']))\n",
    "df[\"tokens\"] = df[\"tokens\"].apply(lambda tokens : [word for word in tokens if not word in stop_words])"
   ]
  },
  {
   "cell_type": "code",
   "execution_count": 39,
   "metadata": {},
   "outputs": [
    {
     "data": {
      "text/plain": [
       "0      [divertir, plus, petits, pendant, longues, jou...\n",
       "1      [divertir, enfants, partager, bon, moment, mai...\n",
       "2      [trio, dont, tout, monde, va, parler, part, qu...\n",
       "3      [question, plus, haute, importance, manges, ab...\n",
       "4                                                     []\n",
       "                             ...                        \n",
       "395                   [suprême, royal, cheese, big, mac]\n",
       "396    [alors, alors, reçu, beau, noël, onveuttoutsav...\n",
       "397          [souhaite, tous, très, belles, fêtes, noël]\n",
       "398                       [vite, vite, réchauffe, mains]\n",
       "399    [motiver, meilleure, pote, ramener, mcdo, moti...\n",
       "Name: tokens, Length: 400, dtype: object"
      ]
     },
     "execution_count": 39,
     "metadata": {},
     "output_type": "execute_result"
    }
   ],
   "source": [
    "df.tokens"
   ]
  },
  {
   "cell_type": "markdown",
   "metadata": {},
   "source": [
    "### 3-4/ Lemmatisation et Stemming"
   ]
  },
  {
   "cell_type": "code",
   "execution_count": 40,
   "metadata": {},
   "outputs": [],
   "source": [
    "#wordnet = WordNetLemmatizer()\n",
    "#df[\"tokens\"] = df[\"tokens\"].apply(lambda tokens : [wordnet.lemmatize(word) for word in tokens])"
   ]
  },
  {
   "cell_type": "code",
   "execution_count": 41,
   "metadata": {},
   "outputs": [],
   "source": [
    "snowball = SnowballStemmer(language=\"french\")\n",
    "df[\"tokens\"] = df[\"tokens\"].apply(lambda tokens : [snowball.stem(word) for word in tokens])"
   ]
  },
  {
   "cell_type": "code",
   "execution_count": 42,
   "metadata": {},
   "outputs": [
    {
     "data": {
      "text/plain": [
       "0      [divert, plus, petit, pend, longu, journ, mais...\n",
       "1      [divert, enfant, partag, bon, moment, maison, ...\n",
       "2      [trio, dont, tout, mond, va, parl, part, quel,...\n",
       "3      [question, plus, haut, import, mang, abord, fr...\n",
       "4                                                     []\n",
       "                             ...                        \n",
       "395                     [suprêm, royal, chees, big, mac]\n",
       "396     [alor, alor, reçu, beau, noël, onveuttoutsavoir]\n",
       "397                [souhait, tous, tres, bel, fêt, noël]\n",
       "398                           [vit, vit, réchauff, main]\n",
       "399    [motiv, meilleur, pot, ramen, mcdo, motiv, mcd...\n",
       "Name: tokens, Length: 400, dtype: object"
      ]
     },
     "execution_count": 42,
     "metadata": {},
     "output_type": "execute_result"
    }
   ],
   "source": [
    "df.tokens"
   ]
  },
  {
   "cell_type": "code",
   "execution_count": 43,
   "metadata": {},
   "outputs": [
    {
     "data": {
      "text/plain": [
       "3064"
      ]
     },
     "execution_count": 43,
     "metadata": {},
     "output_type": "execute_result"
    }
   ],
   "source": [
    "all_training_words = [word for tokens in df[\"tokens\"] for word in tokens]\n",
    "len(all_training_words)"
   ]
  },
  {
   "cell_type": "markdown",
   "metadata": {},
   "source": [
    "### 4/ Enregistrer les changements"
   ]
  },
  {
   "cell_type": "code",
   "execution_count": 44,
   "metadata": {},
   "outputs": [],
   "source": [
    "df.to_csv('fbposts.csv', index = False, header=True)"
   ]
  },
  {
   "cell_type": "markdown",
   "metadata": {},
   "source": [
    "## 5/ BoW (Bag of Words)"
   ]
  },
  {
   "cell_type": "code",
   "execution_count": 54,
   "metadata": {},
   "outputs": [],
   "source": [
    "processed_docs = df.tokens"
   ]
  },
  {
   "cell_type": "code",
   "execution_count": 55,
   "metadata": {},
   "outputs": [
    {
     "name": "stdout",
     "output_type": "stream",
     "text": [
      "Dictionary(31 unique tokens: ['bon', 'cet', 'happy', 'moment', 'tout']...)\n"
     ]
    }
   ],
   "source": [
    "dct = Dictionary(processed_docs)\n",
    "dct.filter_extremes(no_below=15, keep_n=100000)\n",
    "print(dct)"
   ]
  },
  {
   "cell_type": "markdown",
   "metadata": {},
   "source": [
    "## 6/ bow_corpus"
   ]
  },
  {
   "cell_type": "code",
   "execution_count": 56,
   "metadata": {},
   "outputs": [],
   "source": [
    "processed_docs = processed_docs.iloc[:-10]\n",
    "# Les 10 dernières lignes sont réservées pour le test"
   ]
  },
  {
   "cell_type": "code",
   "execution_count": 57,
   "metadata": {},
   "outputs": [
    {
     "data": {
      "text/plain": [
       "[[(0, 1), (1, 1), (2, 1), (3, 1)], [(4, 1), (5, 1)], [(6, 1)]]"
      ]
     },
     "execution_count": 57,
     "metadata": {},
     "output_type": "execute_result"
    }
   ],
   "source": [
    "bow_corpus = [dct.doc2bow(doc) for doc in processed_docs]\n",
    "bow_corpus[0:3]"
   ]
  },
  {
   "cell_type": "markdown",
   "metadata": {},
   "source": [
    "## 7/ Modèle TF-IDF"
   ]
  },
  {
   "cell_type": "code",
   "execution_count": 58,
   "metadata": {},
   "outputs": [],
   "source": [
    "model_tfidf = TfidfModel(bow_corpus,normalize=True)"
   ]
  },
  {
   "cell_type": "code",
   "execution_count": 59,
   "metadata": {},
   "outputs": [
    {
     "data": {
      "text/plain": [
       "[(0, 0.5396898713164865),\n",
       " (1, 0.4537319385194441),\n",
       " (2, 0.45999675386265065),\n",
       " (3, 0.5396898713164865)]"
      ]
     },
     "execution_count": 59,
     "metadata": {},
     "output_type": "execute_result"
    }
   ],
   "source": [
    "corpus_tfidf = model_tfidf[bow_corpus]\n",
    "corpus_tfidf[0]"
   ]
  },
  {
   "cell_type": "markdown",
   "metadata": {},
   "source": [
    "## 8/ Modèle LDA"
   ]
  },
  {
   "cell_type": "code",
   "execution_count": 60,
   "metadata": {},
   "outputs": [],
   "source": [
    "model_lda = LdaMulticore(bow_corpus,num_topics=10, id2word=dct, chunksize=100, iterations=25, passes=2, workers=3)"
   ]
  },
  {
   "cell_type": "code",
   "execution_count": 61,
   "metadata": {},
   "outputs": [
    {
     "name": "stdout",
     "output_type": "stream",
     "text": [
      "[([(0.25049713, 'cet'),\n",
      "   (0.21108739, 'va'),\n",
      "   (0.16357334, 'fair'),\n",
      "   (0.10295469, 'si'),\n",
      "   (0.04447551, 'ça'),\n",
      "   (0.039179105, 'tous'),\n",
      "   (0.038182914, 'happy'),\n",
      "   (0.034803852, 'meal'),\n",
      "   (0.02601457, 'jusqu'),\n",
      "   (0.019731946, 'chez'),\n",
      "   (0.016081993, 'meilleur'),\n",
      "   (0.014187828, 'bien'),\n",
      "   (0.0020682553, 'restaur'),\n",
      "   (0.002067755, 'tout'),\n",
      "   (0.0020675506, 'mcdonald'),\n",
      "   (0.002066043, 'fait'),\n",
      "   (0.0020653873, 'mcdo'),\n",
      "   (0.0020651894, 'retour'),\n",
      "   (0.0020650458, 'plus'),\n",
      "   (0.0020649168, 'post')],\n",
      "  -9.21834689729355),\n",
      " ([(0.21791425, 'fait'),\n",
      "   (0.15752909, 'tout'),\n",
      "   (0.13651593, 'bien'),\n",
      "   (0.08408232, 'restaur'),\n",
      "   (0.052557953, 'retour'),\n",
      "   (0.048626736, 'cet'),\n",
      "   (0.047459718, 'jusqu'),\n",
      "   (0.047037505, 'ça'),\n",
      "   (0.02470307, 'meilleur'),\n",
      "   (0.022118965, 'plus'),\n",
      "   (0.019115137, 'happy'),\n",
      "   (0.018886255, 'mcdonald'),\n",
      "   (0.016080972, 'va'),\n",
      "   (0.015370932, 'gagn'),\n",
      "   (0.015323534, 'fair'),\n",
      "   (0.012814875, 'grand'),\n",
      "   (0.008310074, 'big'),\n",
      "   (0.008215194, 'mcdo'),\n",
      "   (0.008067459, 'moment'),\n",
      "   (0.007972308, 'meal')],\n",
      "  -9.423188725808654)]\n"
     ]
    }
   ],
   "source": [
    "pprint(model_lda.top_topics(bow_corpus)[0:2])"
   ]
  },
  {
   "cell_type": "code",
   "execution_count": 62,
   "metadata": {},
   "outputs": [
    {
     "name": "stdout",
     "output_type": "stream",
     "text": [
      "('Topic 0 : Word: 0.142*\"moment\" + 0.138*\"famill\" + 0.134*\"restaur\" + '\n",
      " '0.085*\"retour\" + 0.061*\"chez\" + 0.060*\"mcdonald\" + 0.055*\"bon\" + '\n",
      " '0.044*\"grand\" + 0.039*\"tous\" + 0.036*\"tout\"')\n",
      "('Topic 1 : Word: 0.127*\"mcdonald\" + 0.107*\"monopoly\" + 0.106*\"gagn\" + '\n",
      " '0.089*\"octobr\" + 0.080*\"big\" + 0.080*\"tirag\" + 0.079*\"sort\" + 0.055*\"chez\" + '\n",
      " '0.037*\"ça\" + 0.029*\"tous\"')\n",
      "('Topic 2 : Word: 0.194*\"mcdo\" + 0.179*\"bon\" + 0.113*\"post\" + 0.084*\"si\" + '\n",
      " '0.062*\"tous\" + 0.041*\"gagn\" + 0.037*\"chez\" + 0.035*\"mcdonald\" + 0.030*\"meal\" '\n",
      " '+ 0.030*\"happy\"')\n",
      "('Topic 3 : Word: 0.250*\"cet\" + 0.211*\"va\" + 0.164*\"fair\" + 0.103*\"si\" + '\n",
      " '0.044*\"ça\" + 0.039*\"tous\" + 0.038*\"happy\" + 0.035*\"meal\" + 0.026*\"jusqu\" + '\n",
      " '0.020*\"chez\"')\n",
      "('Topic 4 : Word: 0.132*\"gagn\" + 0.112*\"monopoly\" + 0.112*\"sort\" + '\n",
      " '0.112*\"mcdonald\" + 0.111*\"tirag\" + 0.082*\"novembr\" + 0.049*\"tous\" + '\n",
      " '0.036*\"mcdo\" + 0.033*\"moment\" + 0.031*\"tout\"')\n",
      "('Topic 5 : Word: 0.280*\"tous\" + 0.139*\"fair\" + 0.052*\"restaur\" + '\n",
      " '0.050*\"mcdonald\" + 0.048*\"retour\" + 0.046*\"plus\" + 0.046*\"post\" + '\n",
      " '0.045*\"chez\" + 0.036*\"grand\" + 0.036*\"va\"')\n",
      "('Topic 6 : Word: 0.218*\"fait\" + 0.158*\"tout\" + 0.137*\"bien\" + 0.084*\"restaur\" '\n",
      " '+ 0.053*\"retour\" + 0.049*\"cet\" + 0.047*\"jusqu\" + 0.047*\"ça\" + '\n",
      " '0.025*\"meilleur\" + 0.022*\"plus\"')\n",
      "('Topic 7 : Word: 0.160*\"mcdonald\" + 0.140*\"happy\" + 0.103*\"meal\" + '\n",
      " '0.070*\"gagn\" + 0.053*\"plus\" + 0.049*\"restaur\" + 0.042*\"tirag\" + 0.042*\"sort\" '\n",
      " '+ 0.042*\"monopoly\" + 0.036*\"famill\"')\n",
      "('Topic 8 : Word: 0.203*\"plus\" + 0.176*\"meilleur\" + 0.086*\"grand\" + '\n",
      " '0.086*\"big\" + 0.083*\"restaur\" + 0.063*\"ça\" + 0.058*\"cet\" + 0.046*\"jusqu\" + '\n",
      " '0.028*\"retour\" + 0.022*\"post\"')\n",
      "('Topic 9 : Word: 0.223*\"ça\" + 0.089*\"tout\" + 0.083*\"jusqu\" + 0.068*\"tirag\" + '\n",
      " '0.058*\"gagn\" + 0.058*\"grand\" + 0.056*\"mcdonald\" + 0.044*\"monopoly\" + '\n",
      " '0.044*\"sort\" + 0.043*\"restaur\"')\n"
     ]
    }
   ],
   "source": [
    "for idx,topic in model_lda.print_topics():\n",
    "    pprint('Topic {} : Word: {}'.format(idx,topic))"
   ]
  },
  {
   "cell_type": "markdown",
   "metadata": {},
   "source": [
    "## 9/ Modèle LDA-TFIDF"
   ]
  },
  {
   "cell_type": "code",
   "execution_count": 63,
   "metadata": {},
   "outputs": [
    {
     "data": {
      "image/png": "[encoded data removed]",
      "text/plain": [
       "<Figure size 432x288 with 1 Axes>"
      ]
     },
     "metadata": {
      "needs_background": "light"
     },
     "output_type": "display_data"
    }
   ],
   "source": [
    "# Hyperparameter Tuning\n",
    "\n",
    "topics_range = range(2, 20, 1)\n",
    "model_results = { 'Topics': [],\n",
    "                 'Coherence': []\n",
    "                }\n",
    "\n",
    "for k in topics_range:\n",
    "    lda_model_test = LdaMulticore(corpus=corpus_tfidf, id2word=dct, num_topics=k, random_state=42, chunksize=100, iterations=25, passes=2, workers=3)\n",
    "    coherence_model_lda = CoherenceModel(model=lda_model_test, texts=processed_docs, dictionary=dct, coherence='c_v')    \n",
    "    cv = coherence_model_lda.get_coherence()\n",
    "    model_results['Topics'].append(k)\n",
    "    model_results['Coherence'].append(cv)\n",
    "\n",
    "plt.plot(model_results['Topics'], model_results['Coherence'])\n",
    "plt.xlabel(\"Num Topics\")\n",
    "plt.ylabel(\"Coherence score\")\n",
    "plt.legend((\"coherence_values\"), loc='best')\n",
    "plt.show()"
   ]
  },
  {
   "cell_type": "markdown",
   "metadata": {},
   "source": [
    "- num_topics optimale est : 10"
   ]
  },
  {
   "cell_type": "code",
   "execution_count": 64,
   "metadata": {},
   "outputs": [],
   "source": [
    "model_tfidf_lda = LdaMulticore(corpus_tfidf,num_topics=10,random_state=42, id2word=dct, chunksize=100, iterations=25, passes=2, workers=3)"
   ]
  },
  {
   "cell_type": "code",
   "execution_count": 65,
   "metadata": {},
   "outputs": [
    {
     "data": {
      "text/plain": [
       "PreparedData(topic_coordinates=              x         y  topics  cluster       Freq\n",
       "topic                                                \n",
       "5     -0.196954  0.126898       1        1  17.455956\n",
       "8      0.196513 -0.035993       2        1  11.982738\n",
       "7     -0.144919 -0.081831       3        1  11.185223\n",
       "6      0.205530  0.040032       4        1  10.475227\n",
       "9     -0.200822  0.049341       5        1   9.978467\n",
       "4     -0.039596 -0.257908       6        1   9.493366\n",
       "0      0.108078  0.166131       7        1   8.674527\n",
       "2     -0.006859  0.072254       8        1   8.284645\n",
       "3      0.071930 -0.080570       9        1   7.182561\n",
       "1      0.007100  0.001647      10        1   5.287284, topic_info=       Term       Freq      Total Category  logprob  loglift\n",
       "4      tout  20.000000  20.000000  Default  30.0000  30.0000\n",
       "16       ça  17.000000  17.000000  Default  29.0000  29.0000\n",
       "6      plus  20.000000  20.000000  Default  28.0000  28.0000\n",
       "15     fait  18.000000  18.000000  Default  27.0000  27.0000\n",
       "8      tous  20.000000  20.000000  Default  26.0000  26.0000\n",
       "..      ...        ...        ...      ...      ...      ...\n",
       "26  novembr   0.084896   7.823170  Topic10  -5.6273  -1.5836\n",
       "30     sort   0.084905  11.521938  Topic10  -5.6272  -1.9706\n",
       "29    tirag   0.084901  12.099571  Topic10  -5.6272  -2.0196\n",
       "25   famill   0.084949  12.882214  Topic10  -5.6267  -2.0817\n",
       "7     grand   0.084913  13.459133  Topic10  -5.6271  -2.1259\n",
       "\n",
       "[340 rows x 6 columns], token_table=      Topic      Freq  Term\n",
       "term                       \n",
       "22        2  0.255819  bien\n",
       "22        4  0.596910  bien\n",
       "13        1  0.819048   big\n",
       "13        2  0.081905   big\n",
       "0         1  0.070589   bon\n",
       "...     ...       ...   ...\n",
       "16        2  0.055583    ça\n",
       "16        3  0.055583    ça\n",
       "16        4  0.055583    ça\n",
       "16        5  0.722580    ça\n",
       "16       10  0.055583    ça\n",
       "\n",
       "[140 rows x 3 columns], R=30, lambda_step=0.01, plot_opts={'xlab': 'PC1', 'ylab': 'PC2'}, topic_order=[6, 9, 8, 7, 10, 5, 1, 3, 4, 2])"
      ]
     },
     "execution_count": 65,
     "metadata": {},
     "output_type": "execute_result"
    }
   ],
   "source": [
    "# Visualize the topics\n",
    "import pyLDAvis\n",
    "import pyLDAvis.gensim\n",
    "#pyLDAvis.enable_notebook()\n",
    "vis = pyLDAvis.gensim.prepare(model_tfidf_lda, corpus_tfidf, dct)\n",
    "vis"
   ]
  },
  {
   "cell_type": "code",
   "execution_count": 66,
   "metadata": {},
   "outputs": [
    {
     "name": "stdout",
     "output_type": "stream",
     "text": [
      "[([(0.22535524, 'plus'),\n",
      "   (0.16238347, 'retour'),\n",
      "   (0.14907233, 'bien'),\n",
      "   (0.08008613, 'cet'),\n",
      "   (0.07133874, 'meilleur'),\n",
      "   (0.0708499, 'restaur'),\n",
      "   (0.06685482, 'jusqu'),\n",
      "   (0.058118273, 'bon'),\n",
      "   (0.017415766, 'mcdo'),\n",
      "   (0.01724709, 'ça'),\n",
      "   (0.014025761, 'chez'),\n",
      "   (0.003368356, 'tous'),\n",
      "   (0.0033655053, 'fait'),\n",
      "   (0.0033646806, 'tout'),\n",
      "   (0.003364215, 'mcdonald'),\n",
      "   (0.003364212, 'happy'),\n",
      "   (0.0033640992, 'fair'),\n",
      "   (0.003362647, 'famill'),\n",
      "   (0.0033622794, 'grand'),\n",
      "   (0.003362275, 'va')],\n",
      "  -8.400538767705239),\n",
      " ([(0.27535754, 'tous'),\n",
      "   (0.17676179, 'restaur'),\n",
      "   (0.11737477, 'bon'),\n",
      "   (0.095411144, 'cet'),\n",
      "   (0.05810507, 'bien'),\n",
      "   (0.057543468, 'famill'),\n",
      "   (0.05031552, 'jusqu'),\n",
      "   (0.029087918, 'tout'),\n",
      "   (0.017524475, 'moment'),\n",
      "   (0.016616827, 'plus'),\n",
      "   (0.014297566, 'happy'),\n",
      "   (0.010554924, 'big'),\n",
      "   (0.010047673, 'ça'),\n",
      "   (0.009500105, 'post'),\n",
      "   (0.00916627, 'mcdonald'),\n",
      "   (0.0069166864, 'fair'),\n",
      "   (0.005735542, 'grand'),\n",
      "   (0.005114276, 'si'),\n",
      "   (0.0050763837, 'retour'),\n",
      "   (0.004228093, 'mcdo')],\n",
      "  -9.331924611849987)]\n"
     ]
    }
   ],
   "source": [
    "pprint(model_tfidf_lda.top_topics(bow_corpus)[0:2])"
   ]
  },
  {
   "cell_type": "code",
   "execution_count": 67,
   "metadata": {},
   "outputs": [
    {
     "name": "stdout",
     "output_type": "stream",
     "text": [
      "('Topic 0 : Word: 0.395*\"tout\" + 0.168*\"mcdo\" + 0.082*\"meilleur\" + '\n",
      " '0.060*\"retour\" + 0.043*\"mcdonald\" + 0.043*\"bon\" + 0.033*\"grand\" + '\n",
      " '0.028*\"tous\" + 0.026*\"restaur\" + 0.018*\"fait\"')\n",
      "('Topic 1 : Word: 0.147*\"retour\" + 0.110*\"mcdo\" + 0.084*\"chez\" + '\n",
      " '0.060*\"restaur\" + 0.056*\"moment\" + 0.051*\"fait\" + 0.047*\"fair\" + '\n",
      " '0.047*\"tout\" + 0.044*\"happy\" + 0.038*\"octobr\"')\n",
      "('Topic 2 : Word: 0.166*\"grand\" + 0.121*\"meilleur\" + 0.093*\"chez\" + '\n",
      " '0.072*\"mcdonald\" + 0.056*\"mcdo\" + 0.053*\"retour\" + 0.045*\"cet\" + '\n",
      " '0.041*\"gagn\" + 0.041*\"restaur\" + 0.031*\"plus\"')\n",
      "('Topic 3 : Word: 0.226*\"famill\" + 0.176*\"plus\" + 0.128*\"grand\" + '\n",
      " '0.096*\"moment\" + 0.043*\"tous\" + 0.043*\"fair\" + 0.028*\"mcdo\" + 0.025*\"happy\" '\n",
      " '+ 0.021*\"jusqu\" + 0.021*\"mcdonald\"')\n",
      "('Topic 4 : Word: 0.244*\"meal\" + 0.227*\"happy\" + 0.197*\"va\" + 0.065*\"moment\" + '\n",
      " '0.036*\"jusqu\" + 0.032*\"bon\" + 0.029*\"mcdonald\" + 0.021*\"plus\" + 0.016*\"gagn\" '\n",
      " '+ 0.014*\"tous\"')\n",
      "('Topic 5 : Word: 0.140*\"gagn\" + 0.129*\"big\" + 0.119*\"monopoly\" + '\n",
      " '0.115*\"tirag\" + 0.115*\"sort\" + 0.100*\"mcdonald\" + 0.073*\"octobr\" + '\n",
      " '0.058*\"novembr\" + 0.030*\"ça\" + 0.014*\"grand\"')\n",
      "('Topic 6 : Word: 0.225*\"plus\" + 0.162*\"retour\" + 0.149*\"bien\" + 0.080*\"cet\" + '\n",
      " '0.071*\"meilleur\" + 0.071*\"restaur\" + 0.067*\"jusqu\" + 0.058*\"bon\" + '\n",
      " '0.017*\"mcdo\" + 0.017*\"ça\"')\n",
      "('Topic 7 : Word: 0.183*\"fair\" + 0.150*\"mcdonald\" + 0.112*\"post\" + '\n",
      " '0.110*\"chez\" + 0.063*\"va\" + 0.048*\"fait\" + 0.048*\"moment\" + 0.046*\"gagn\" + '\n",
      " '0.039*\"happy\" + 0.031*\"retour\"')\n",
      "('Topic 8 : Word: 0.275*\"tous\" + 0.177*\"restaur\" + 0.117*\"bon\" + 0.095*\"cet\" + '\n",
      " '0.058*\"bien\" + 0.058*\"famill\" + 0.050*\"jusqu\" + 0.029*\"tout\" + '\n",
      " '0.018*\"moment\" + 0.017*\"plus\"')\n",
      "('Topic 9 : Word: 0.283*\"ça\" + 0.280*\"fait\" + 0.130*\"si\" + 0.057*\"gagn\" + '\n",
      " '0.046*\"happy\" + 0.030*\"cet\" + 0.024*\"post\" + 0.019*\"tout\" + 0.018*\"tirag\" + '\n",
      " '0.013*\"bon\"')\n"
     ]
    }
   ],
   "source": [
    "for idx,topic in model_tfidf_lda.print_topics():\n",
    "    pprint('Topic {} : Word: {}'.format(idx,topic))"
   ]
  },
  {
   "cell_type": "markdown",
   "metadata": {},
   "source": [
    "#### Sujets(Topics) :\n",
    "- Topic 0 : Qualité\n",
    "- Topic 1 : Equité\n",
    "- Topic 2 : Taille\n",
    "- Topic 3 : Famille\n",
    "- Topic 4 : Bonheur\n",
    "- Topic 5 : Cadeaux\n",
    "- Topic 6 : Bonheur\n",
    "- Topic 7 : Equité\n",
    "- Topic 8 : Famille\n",
    "- Topic 9 : Tirage"
   ]
  },
  {
   "cell_type": "markdown",
   "metadata": {},
   "source": [
    "## 10/ Evaluation de la modèle LDA-TFIDF"
   ]
  },
  {
   "cell_type": "code",
   "execution_count": 68,
   "metadata": {},
   "outputs": [
    {
     "name": "stdout",
     "output_type": "stream",
     "text": [
      "\n",
      "Coherence Score:  0.4268938871729565\n"
     ]
    }
   ],
   "source": [
    "# Compute Coherence Score\n",
    "coherence_model_lda = CoherenceModel(model=model_tfidf_lda, texts=processed_docs, dictionary=dct, coherence='c_v')\n",
    "coherence_lda = coherence_model_lda.get_coherence()\n",
    "print('\\nCoherence Score: ', coherence_lda)"
   ]
  },
  {
   "cell_type": "markdown",
   "metadata": {},
   "source": [
    "## 11/ Test"
   ]
  },
  {
   "cell_type": "code",
   "execution_count": 69,
   "metadata": {},
   "outputs": [
    {
     "data": {
      "text/html": [
       "<div>\n",
       "<style scoped>\n",
       "    .dataframe tbody tr th:only-of-type {\n",
       "        vertical-align: middle;\n",
       "    }\n",
       "\n",
       "    .dataframe tbody tr th {\n",
       "        vertical-align: top;\n",
       "    }\n",
       "\n",
       "    .dataframe thead th {\n",
       "        text-align: right;\n",
       "    }\n",
       "</style>\n",
       "<table border=\"1\" class=\"dataframe\">\n",
       "  <thead>\n",
       "    <tr style=\"text-align: right;\">\n",
       "      <th></th>\n",
       "      <th>Document_No</th>\n",
       "      <th>Dominant_Topic</th>\n",
       "      <th>Topic_Perc_Contrib</th>\n",
       "      <th>Topic_Keywords</th>\n",
       "      <th>Text</th>\n",
       "    </tr>\n",
       "  </thead>\n",
       "  <tbody>\n",
       "    <tr>\n",
       "      <th>0</th>\n",
       "      <td>0</td>\n",
       "      <td>4.0</td>\n",
       "      <td>0.3671</td>\n",
       "      <td>meal, happy, va, moment, jusqu, bon, mcdonald,...</td>\n",
       "      <td>#TeamDuLendemain</td>\n",
       "    </tr>\n",
       "    <tr>\n",
       "      <th>1</th>\n",
       "      <td>1</td>\n",
       "      <td>4.0</td>\n",
       "      <td>0.3643</td>\n",
       "      <td>meal, happy, va, moment, jusqu, bon, mcdonald,...</td>\n",
       "      <td>NaN</td>\n",
       "    </tr>\n",
       "    <tr>\n",
       "      <th>2</th>\n",
       "      <td>2</td>\n",
       "      <td>6.0</td>\n",
       "      <td>0.5500</td>\n",
       "      <td>plus, retour, bien, cet, meilleur, restaur, ju...</td>\n",
       "      <td>Pensée pour après-demain ... Voici le kit de s...</td>\n",
       "    </tr>\n",
       "    <tr>\n",
       "      <th>3</th>\n",
       "      <td>3</td>\n",
       "      <td>0.0</td>\n",
       "      <td>0.1000</td>\n",
       "      <td>tout, mcdo, meilleur, retour, mcdonald, bon, g...</td>\n",
       "      <td>Pour motiver le meilleur de la bande à ramener...</td>\n",
       "    </tr>\n",
       "    <tr>\n",
       "      <th>4</th>\n",
       "      <td>4</td>\n",
       "      <td>2.0</td>\n",
       "      <td>0.3728</td>\n",
       "      <td>grand, meilleur, chez, mcdonald, mcdo, retour,...</td>\n",
       "      <td>L'affrontement suprême : Royal Cheese ou Big M...</td>\n",
       "    </tr>\n",
       "    <tr>\n",
       "      <th>5</th>\n",
       "      <td>5</td>\n",
       "      <td>0.0</td>\n",
       "      <td>0.1000</td>\n",
       "      <td>tout, mcdo, meilleur, retour, mcdonald, bon, g...</td>\n",
       "      <td>Alors alors qu'avez-vous reçu de beau à Noël ?...</td>\n",
       "    </tr>\n",
       "    <tr>\n",
       "      <th>6</th>\n",
       "      <td>6</td>\n",
       "      <td>8.0</td>\n",
       "      <td>0.5500</td>\n",
       "      <td>tous, restaur, bon, cet, bien, famill, jusqu, ...</td>\n",
       "      <td>On vous souhaite à tous de très belles fêtes d...</td>\n",
       "    </tr>\n",
       "    <tr>\n",
       "      <th>7</th>\n",
       "      <td>7</td>\n",
       "      <td>9.0</td>\n",
       "      <td>0.5500</td>\n",
       "      <td>ça, fait, si, gagn, happy, cet, post, tout, ti...</td>\n",
       "      <td>❄️ C'est l'hiver, vite vite on se réchauffe le...</td>\n",
       "    </tr>\n",
       "    <tr>\n",
       "      <th>8</th>\n",
       "      <td>8</td>\n",
       "      <td>0.0</td>\n",
       "      <td>0.5500</td>\n",
       "      <td>tout, mcdo, meilleur, retour, mcdonald, bon, g...</td>\n",
       "      <td>Pour motiver ta meilleure pote à ramener McDo,...</td>\n",
       "    </tr>\n",
       "    <tr>\n",
       "      <th>9</th>\n",
       "      <td>9</td>\n",
       "      <td>3.0</td>\n",
       "      <td>0.6264</td>\n",
       "      <td>famill, plus, grand, moment, tous, fair, mcdo,...</td>\n",
       "      <td>Pour motiver ton meilleur pote à ramener McDo,...</td>\n",
       "    </tr>\n",
       "  </tbody>\n",
       "</table>\n",
       "</div>"
      ],
      "text/plain": [
       "   Document_No  Dominant_Topic  Topic_Perc_Contrib  \\\n",
       "0            0             4.0              0.3671   \n",
       "1            1             4.0              0.3643   \n",
       "2            2             6.0              0.5500   \n",
       "3            3             0.0              0.1000   \n",
       "4            4             2.0              0.3728   \n",
       "5            5             0.0              0.1000   \n",
       "6            6             8.0              0.5500   \n",
       "7            7             9.0              0.5500   \n",
       "8            8             0.0              0.5500   \n",
       "9            9             3.0              0.6264   \n",
       "\n",
       "                                      Topic_Keywords  \\\n",
       "0  meal, happy, va, moment, jusqu, bon, mcdonald,...   \n",
       "1  meal, happy, va, moment, jusqu, bon, mcdonald,...   \n",
       "2  plus, retour, bien, cet, meilleur, restaur, ju...   \n",
       "3  tout, mcdo, meilleur, retour, mcdonald, bon, g...   \n",
       "4  grand, meilleur, chez, mcdonald, mcdo, retour,...   \n",
       "5  tout, mcdo, meilleur, retour, mcdonald, bon, g...   \n",
       "6  tous, restaur, bon, cet, bien, famill, jusqu, ...   \n",
       "7  ça, fait, si, gagn, happy, cet, post, tout, ti...   \n",
       "8  tout, mcdo, meilleur, retour, mcdonald, bon, g...   \n",
       "9  famill, plus, grand, moment, tous, fair, mcdo,...   \n",
       "\n",
       "                                                Text  \n",
       "0                                   #TeamDuLendemain  \n",
       "1                                                NaN  \n",
       "2  Pensée pour après-demain ... Voici le kit de s...  \n",
       "3  Pour motiver le meilleur de la bande à ramener...  \n",
       "4  L'affrontement suprême : Royal Cheese ou Big M...  \n",
       "5  Alors alors qu'avez-vous reçu de beau à Noël ?...  \n",
       "6  On vous souhaite à tous de très belles fêtes d...  \n",
       "7  ❄️ C'est l'hiver, vite vite on se réchauffe le...  \n",
       "8  Pour motiver ta meilleure pote à ramener McDo,...  \n",
       "9  Pour motiver ton meilleur pote à ramener McDo,...  "
      ]
     },
     "execution_count": 69,
     "metadata": {},
     "output_type": "execute_result"
    }
   ],
   "source": [
    "def format_topics_tweets(ldamodel, corpus, texts):\n",
    "    # Init output\n",
    "    sent_topics_df = pd.DataFrame()\n",
    "\n",
    "    # Get main topic in each document\n",
    "    for i, row in enumerate(ldamodel[corpus]):\n",
    "        row = sorted(row, key=lambda x: (x[1]), reverse=True)\n",
    "        # Get the Dominant topic, Perc Contribution and Keywords for each document\n",
    "        for j, (topic_num, prop_topic) in enumerate(row):\n",
    "            if j == 0:  # => dominant topic\n",
    "                wp = ldamodel.show_topic(topic_num)\n",
    "                topic_keywords = \", \".join([word for word, prop in wp])\n",
    "                sent_topics_df = sent_topics_df.append(pd.Series([int(topic_num), round(prop_topic,4), topic_keywords]), ignore_index=True)\n",
    "            else:\n",
    "                break\n",
    "    sent_topics_df.columns = ['Dominant_Topic', 'Perc_Contribution', 'Topic_Keywords']\n",
    "\n",
    "    # Add original text to the end of the output\n",
    "    contents = pd.Series(texts)\n",
    "    sent_topics_df = pd.concat([sent_topics_df, contents], axis=1)\n",
    "    return(sent_topics_df)\n",
    "\n",
    "\n",
    "df_topic_tweets_keywords = format_topics_tweets(ldamodel=model_tfidf_lda, corpus=corpus_tfidf, texts=df.text.iloc[-10:].tolist())\n",
    "\n",
    "# Format\n",
    "df_dominant_topic = df_topic_tweets_keywords.reset_index()\n",
    "df_dominant_topic.columns = ['Document_No', 'Dominant_Topic', 'Topic_Perc_Contrib', 'Topic_Keywords', 'Text']\n",
    "\n",
    "# Show\n",
    "df_dominant_topic.head(10)"
   ]
  },
  {
   "cell_type": "markdown",
   "metadata": {},
   "source": [
    "Interprétation : On peut déterminer d'après le topic modelling que les thèmes les plus communes dans les publications de page Facebook de Mcdo France sont les sujets : les cadeaux, les offres et les actualités de Mcdo  ... Donc on peut déduire que Mcdo France cherche à partager ses nouvelles aux ses clients.\n",
    "\n",
    "Ces données nous laissent connaître l'image que Mcdo france veut garder."
   ]
  },
  {
   "cell_type": "code",
   "execution_count": null,
   "metadata": {},
   "outputs": [],
   "source": []
  }
 ],
 "metadata": {
  "kernelspec": {
   "display_name": "Python 3",
   "language": "python",
   "name": "python3"
  },
  "language_info": {
   "codemirror_mode": {
    "name": "ipython",
    "version": 3
   },
   "file_extension": ".py",
   "mimetype": "text/x-python",
   "name": "python",
   "nbconvert_exporter": "python",
   "pygments_lexer": "ipython3",
   "version": "3.6.10"
  }
 },
 "nbformat": 4,
 "nbformat_minor": 4
}
